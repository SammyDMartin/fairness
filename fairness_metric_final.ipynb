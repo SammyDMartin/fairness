{
  "nbformat": 4,
  "nbformat_minor": 0,
  "metadata": {
    "kernelspec": {
      "name": "python3",
      "display_name": "Python 3"
    },
    "colab": {
      "name": "demo_reject_option_classification.ipynb",
      "provenance": [],
      "toc_visible": true,
      "include_colab_link": true
    }
  },
  "cells": [
    {
      "cell_type": "markdown",
      "metadata": {
        "id": "view-in-github",
        "colab_type": "text"
      },
      "source": [
        "<a href=\"https://colab.research.google.com/github/SammyDMartin/fairness/blob/main/fairness_metric_final.ipynb\" target=\"_parent\"><img src=\"https://colab.research.google.com/assets/colab-badge.svg\" alt=\"Open In Colab\"/></a>"
      ]
    },
    {
      "cell_type": "markdown",
      "metadata": {
        "id": "VXgPpTHixLGo"
      },
      "source": [
        "## Multi-Metric Mitigation\n",
        "**Add the possibility to pass in arbitrary metric to the ROC or CPP fit function**\n",
        "\n",
        "**Perform (currently random) cross-validation search over weights in arbitarary fairness function and assess k-fold accuracy/fairness scores**\n",
        "\n",
        "*search over fairness weight hyperparameters*"
      ]
    },
    {
      "cell_type": "markdown",
      "metadata": {
        "id": "PDPhtiySyDZW"
      },
      "source": [
        "### **Install aif360 and setup environment**\n",
        "Install aif360 and setup environment"
      ]
    },
    {
      "cell_type": "code",
      "metadata": {
        "colab": {
          "base_uri": "https://localhost:8080/"
        },
        "id": "IU-3Yn931e7G",
        "outputId": "507898fd-84b5-42c6-f1be-685642665dc4"
      },
      "source": [
        "!git clone https://github.com/Trusted-AI/AIF360"
      ],
      "execution_count": 1,
      "outputs": [
        {
          "output_type": "stream",
          "text": [
            "Cloning into 'AIF360'...\n",
            "remote: Enumerating objects: 2494, done.\u001b[K\n",
            "remote: Counting objects: 100% (176/176), done.\u001b[K\n",
            "remote: Compressing objects: 100% (129/129), done.\u001b[K\n",
            "remote: Total 2494 (delta 96), reused 79 (delta 43), pack-reused 2318\u001b[K\n",
            "Receiving objects: 100% (2494/2494), 5.62 MiB | 16.48 MiB/s, done.\n",
            "Resolving deltas: 100% (1491/1491), done.\n"
          ],
          "name": "stdout"
        }
      ]
    },
    {
      "cell_type": "code",
      "metadata": {
        "colab": {
          "base_uri": "https://localhost:8080/"
        },
        "id": "wrLI8Amk1m5l",
        "outputId": "bb211ba4-9ad5-4ac6-879a-4ea7c0758980"
      },
      "source": [
        "%cd AIF360 "
      ],
      "execution_count": 2,
      "outputs": [
        {
          "output_type": "stream",
          "text": [
            "/content/AIF360\n"
          ],
          "name": "stdout"
        }
      ]
    },
    {
      "cell_type": "code",
      "metadata": {
        "id": "NvQ0nsMvS_a8"
      },
      "source": [
        ""
      ],
      "execution_count": null,
      "outputs": []
    },
    {
      "cell_type": "code",
      "metadata": {
        "id": "8rRhJVUXMs6U",
        "colab": {
          "base_uri": "https://localhost:8080/"
        },
        "outputId": "d1829b11-9d6c-4597-8913-79fcc3a1b403"
      },
      "source": [
        "%pip install '.[all]'"
      ],
      "execution_count": 3,
      "outputs": [
        {
          "output_type": "stream",
          "text": [
            "Processing /content/AIF360\n",
            "Requirement already satisfied: numpy>=1.16 in /usr/local/lib/python3.7/dist-packages (from aif360==0.4.0) (1.19.5)\n",
            "Requirement already satisfied: scipy<1.6.0,>=1.2.0 in /usr/local/lib/python3.7/dist-packages (from aif360==0.4.0) (1.4.1)\n",
            "Requirement already satisfied: pandas>=0.24.0 in /usr/local/lib/python3.7/dist-packages (from aif360==0.4.0) (1.1.5)\n",
            "Requirement already satisfied: scikit-learn>=0.22.1 in /usr/local/lib/python3.7/dist-packages (from aif360==0.4.0) (0.22.2.post1)\n",
            "Requirement already satisfied: matplotlib in /usr/local/lib/python3.7/dist-packages (from aif360==0.4.0) (3.2.2)\n",
            "Collecting tempeh\n",
            "  Downloading https://files.pythonhosted.org/packages/b7/1b/d016f8d2ac250b7df50ffb630c3f71371d35ac92deb80653b0e4d2f9c1a9/tempeh-0.1.12-py3-none-any.whl\n",
            "Requirement already satisfied: sphinx in /usr/local/lib/python3.7/dist-packages (from aif360==0.4.0) (1.8.5)\n",
            "Collecting BlackBoxAuditing\n",
            "\u001b[?25l  Downloading https://files.pythonhosted.org/packages/d8/2e/e2e7166bc78eb599b602ca79ace1ceba2ef83b69a0b708c9a7eb729347bf/BlackBoxAuditing-0.1.54.tar.gz (2.6MB)\n",
            "\u001b[K     |████████████████████████████████| 2.6MB 7.2MB/s \n",
            "\u001b[?25hCollecting adversarial-robustness-toolbox>=1.0.0\n",
            "\u001b[?25l  Downloading https://files.pythonhosted.org/packages/7f/d0/50b97b40439062a023affc64227755a2b0355c4499096b5d0921cbfde0d1/adversarial_robustness_toolbox-1.6.1-py3-none-any.whl (970kB)\n",
            "\u001b[K     |████████████████████████████████| 972kB 36.7MB/s \n",
            "\u001b[?25hCollecting sphinx_rtd_theme\n",
            "\u001b[?25l  Downloading https://files.pythonhosted.org/packages/ac/24/2475e8f83519b54b2148d4a56eb1111f9cec630d088c3ffc214492c12107/sphinx_rtd_theme-0.5.2-py2.py3-none-any.whl (9.1MB)\n",
            "\u001b[K     |████████████████████████████████| 9.2MB 21.4MB/s \n",
            "\u001b[?25hRequirement already satisfied: cvxpy>=1.0 in /usr/local/lib/python3.7/dist-packages (from aif360==0.4.0) (1.0.31)\n",
            "Requirement already satisfied: pytest>=3.5 in /usr/local/lib/python3.7/dist-packages (from aif360==0.4.0) (3.6.4)\n",
            "Requirement already satisfied: jupyter in /usr/local/lib/python3.7/dist-packages (from aif360==0.4.0) (1.0.0)\n",
            "Collecting lime\n",
            "\u001b[?25l  Downloading https://files.pythonhosted.org/packages/f5/86/91a13127d83d793ecb50eb75e716f76e6eda809b6803c5a4ff462339789e/lime-0.2.0.1.tar.gz (275kB)\n",
            "\u001b[K     |████████████████████████████████| 276kB 48.2MB/s \n",
            "\u001b[?25hRequirement already satisfied: tqdm in /usr/local/lib/python3.7/dist-packages (from aif360==0.4.0) (4.41.1)\n",
            "Requirement already satisfied: tensorflow>=1.13.1 in /usr/local/lib/python3.7/dist-packages (from aif360==0.4.0) (2.4.1)\n",
            "Collecting fairlearn==0.4.6\n",
            "\u001b[?25l  Downloading https://files.pythonhosted.org/packages/c0/ec/15764c20d27f4ec53e826eff160139c937274b646491c4de936a73444fd8/fairlearn-0.4.6-py3-none-any.whl (21.2MB)\n",
            "\u001b[K     |████████████████████████████████| 21.2MB 1.8MB/s \n",
            "\u001b[?25hRequirement already satisfied: python-dateutil>=2.7.3 in /usr/local/lib/python3.7/dist-packages (from pandas>=0.24.0->aif360==0.4.0) (2.8.1)\n",
            "Requirement already satisfied: pytz>=2017.2 in /usr/local/lib/python3.7/dist-packages (from pandas>=0.24.0->aif360==0.4.0) (2018.9)\n",
            "Requirement already satisfied: joblib>=0.11 in /usr/local/lib/python3.7/dist-packages (from scikit-learn>=0.22.1->aif360==0.4.0) (1.0.1)\n",
            "Requirement already satisfied: kiwisolver>=1.0.1 in /usr/local/lib/python3.7/dist-packages (from matplotlib->aif360==0.4.0) (1.3.1)\n",
            "Requirement already satisfied: cycler>=0.10 in /usr/local/lib/python3.7/dist-packages (from matplotlib->aif360==0.4.0) (0.10.0)\n",
            "Requirement already satisfied: pyparsing!=2.0.4,!=2.1.2,!=2.1.6,>=2.0.1 in /usr/local/lib/python3.7/dist-packages (from matplotlib->aif360==0.4.0) (2.4.7)\n",
            "Requirement already satisfied: requests in /usr/local/lib/python3.7/dist-packages (from tempeh->aif360==0.4.0) (2.23.0)\n",
            "Collecting memory-profiler\n",
            "  Downloading https://files.pythonhosted.org/packages/8f/fd/d92b3295657f8837e0177e7b48b32d6651436f0293af42b76d134c3bb489/memory_profiler-0.58.0.tar.gz\n",
            "Collecting shap\n",
            "\u001b[?25l  Downloading https://files.pythonhosted.org/packages/b9/f4/c5b95cddae15be80f8e58b25edceca105aa83c0b8c86a1edad24a6af80d3/shap-0.39.0.tar.gz (356kB)\n",
            "\u001b[K     |████████████████████████████████| 358kB 34.0MB/s \n",
            "\u001b[?25hRequirement already satisfied: imagesize in /usr/local/lib/python3.7/dist-packages (from sphinx->aif360==0.4.0) (1.2.0)\n",
            "Requirement already satisfied: babel!=2.0,>=1.3 in /usr/local/lib/python3.7/dist-packages (from sphinx->aif360==0.4.0) (2.9.0)\n",
            "Requirement already satisfied: setuptools in /usr/local/lib/python3.7/dist-packages (from sphinx->aif360==0.4.0) (54.2.0)\n",
            "Requirement already satisfied: packaging in /usr/local/lib/python3.7/dist-packages (from sphinx->aif360==0.4.0) (20.9)\n",
            "Requirement already satisfied: sphinxcontrib-websupport in /usr/local/lib/python3.7/dist-packages (from sphinx->aif360==0.4.0) (1.2.4)\n",
            "Requirement already satisfied: Jinja2>=2.3 in /usr/local/lib/python3.7/dist-packages (from sphinx->aif360==0.4.0) (2.11.3)\n",
            "Requirement already satisfied: docutils>=0.11 in /usr/local/lib/python3.7/dist-packages (from sphinx->aif360==0.4.0) (0.17)\n",
            "Requirement already satisfied: alabaster<0.8,>=0.7 in /usr/local/lib/python3.7/dist-packages (from sphinx->aif360==0.4.0) (0.7.12)\n",
            "Requirement already satisfied: six>=1.5 in /usr/local/lib/python3.7/dist-packages (from sphinx->aif360==0.4.0) (1.15.0)\n",
            "Requirement already satisfied: Pygments>=2.0 in /usr/local/lib/python3.7/dist-packages (from sphinx->aif360==0.4.0) (2.6.1)\n",
            "Requirement already satisfied: snowballstemmer>=1.1 in /usr/local/lib/python3.7/dist-packages (from sphinx->aif360==0.4.0) (2.1.0)\n",
            "Requirement already satisfied: networkx in /usr/local/lib/python3.7/dist-packages (from BlackBoxAuditing->aif360==0.4.0) (2.5.1)\n",
            "Requirement already satisfied: Pillow in /usr/local/lib/python3.7/dist-packages (from adversarial-robustness-toolbox>=1.0.0->aif360==0.4.0) (7.1.2)\n",
            "Collecting mypy\n",
            "\u001b[?25l  Downloading https://files.pythonhosted.org/packages/18/f0/6b01da1ffc9322ab3844c0138b3256fefba30eac889731ca74c671a7e66e/mypy-0.812-cp37-cp37m-manylinux2010_x86_64.whl (21.6MB)\n",
            "\u001b[K     |████████████████████████████████| 21.6MB 1.4MB/s \n",
            "\u001b[?25hRequirement already satisfied: resampy in /usr/local/lib/python3.7/dist-packages (from adversarial-robustness-toolbox>=1.0.0->aif360==0.4.0) (0.2.2)\n",
            "Collecting pydub\n",
            "  Downloading https://files.pythonhosted.org/packages/a6/53/d78dc063216e62fc55f6b2eebb447f6a4b0a59f55c8406376f76bf959b08/pydub-0.25.1-py2.py3-none-any.whl\n",
            "Collecting cma\n",
            "\u001b[?25l  Downloading https://files.pythonhosted.org/packages/36/c0/0a1c41f7cad0a51e07991cf86423d0e6651d035f1fe7dcff48e8858848f2/cma-3.0.3-py2.py3-none-any.whl (230kB)\n",
            "\u001b[K     |████████████████████████████████| 235kB 44.5MB/s \n",
            "\u001b[?25hCollecting ffmpeg-python\n",
            "  Downloading https://files.pythonhosted.org/packages/d7/0c/56be52741f75bad4dc6555991fabd2e07b432d333da82c11ad701123888a/ffmpeg_python-0.2.0-py3-none-any.whl\n",
            "Collecting numba~=0.53.1\n",
            "\u001b[?25l  Downloading https://files.pythonhosted.org/packages/bb/73/d9c127eddbe3c105a33379d425b88f9dca249a6eddf39ce886494d49c3f9/numba-0.53.1-cp37-cp37m-manylinux2014_x86_64.whl (3.4MB)\n",
            "\u001b[K     |████████████████████████████████| 3.4MB 40.4MB/s \n",
            "\u001b[?25hRequirement already satisfied: statsmodels in /usr/local/lib/python3.7/dist-packages (from adversarial-robustness-toolbox>=1.0.0->aif360==0.4.0) (0.10.2)\n",
            "Requirement already satisfied: ecos>=2 in /usr/local/lib/python3.7/dist-packages (from cvxpy>=1.0->aif360==0.4.0) (2.0.7.post1)\n",
            "Requirement already satisfied: multiprocess in /usr/local/lib/python3.7/dist-packages (from cvxpy>=1.0->aif360==0.4.0) (0.70.11.1)\n",
            "Requirement already satisfied: scs>=1.1.3 in /usr/local/lib/python3.7/dist-packages (from cvxpy>=1.0->aif360==0.4.0) (2.1.3)\n",
            "Requirement already satisfied: osqp>=0.4.1 in /usr/local/lib/python3.7/dist-packages (from cvxpy>=1.0->aif360==0.4.0) (0.6.2.post0)\n",
            "Requirement already satisfied: atomicwrites>=1.0 in /usr/local/lib/python3.7/dist-packages (from pytest>=3.5->aif360==0.4.0) (1.4.0)\n",
            "Requirement already satisfied: pluggy<0.8,>=0.5 in /usr/local/lib/python3.7/dist-packages (from pytest>=3.5->aif360==0.4.0) (0.7.1)\n",
            "Requirement already satisfied: attrs>=17.4.0 in /usr/local/lib/python3.7/dist-packages (from pytest>=3.5->aif360==0.4.0) (20.3.0)\n",
            "Requirement already satisfied: py>=1.5.0 in /usr/local/lib/python3.7/dist-packages (from pytest>=3.5->aif360==0.4.0) (1.10.0)\n",
            "Requirement already satisfied: more-itertools>=4.0.0 in /usr/local/lib/python3.7/dist-packages (from pytest>=3.5->aif360==0.4.0) (8.7.0)\n",
            "Requirement already satisfied: jupyter-console in /usr/local/lib/python3.7/dist-packages (from jupyter->aif360==0.4.0) (5.2.0)\n",
            "Requirement already satisfied: ipywidgets in /usr/local/lib/python3.7/dist-packages (from jupyter->aif360==0.4.0) (7.6.3)\n",
            "Requirement already satisfied: qtconsole in /usr/local/lib/python3.7/dist-packages (from jupyter->aif360==0.4.0) (5.0.3)\n",
            "Requirement already satisfied: ipykernel in /usr/local/lib/python3.7/dist-packages (from jupyter->aif360==0.4.0) (4.10.1)\n",
            "Requirement already satisfied: notebook in /usr/local/lib/python3.7/dist-packages (from jupyter->aif360==0.4.0) (5.3.1)\n",
            "Requirement already satisfied: nbconvert in /usr/local/lib/python3.7/dist-packages (from jupyter->aif360==0.4.0) (5.6.1)\n",
            "Requirement already satisfied: scikit-image>=0.12 in /usr/local/lib/python3.7/dist-packages (from lime->aif360==0.4.0) (0.16.2)\n",
            "Requirement already satisfied: h5py~=2.10.0 in /usr/local/lib/python3.7/dist-packages (from tensorflow>=1.13.1->aif360==0.4.0) (2.10.0)\n",
            "Requirement already satisfied: wrapt~=1.12.1 in /usr/local/lib/python3.7/dist-packages (from tensorflow>=1.13.1->aif360==0.4.0) (1.12.1)\n",
            "Requirement already satisfied: opt-einsum~=3.3.0 in /usr/local/lib/python3.7/dist-packages (from tensorflow>=1.13.1->aif360==0.4.0) (3.3.0)\n",
            "Requirement already satisfied: google-pasta~=0.2 in /usr/local/lib/python3.7/dist-packages (from tensorflow>=1.13.1->aif360==0.4.0) (0.2.0)\n",
            "Requirement already satisfied: gast==0.3.3 in /usr/local/lib/python3.7/dist-packages (from tensorflow>=1.13.1->aif360==0.4.0) (0.3.3)\n",
            "Requirement already satisfied: tensorboard~=2.4 in /usr/local/lib/python3.7/dist-packages (from tensorflow>=1.13.1->aif360==0.4.0) (2.4.1)\n",
            "Requirement already satisfied: astunparse~=1.6.3 in /usr/local/lib/python3.7/dist-packages (from tensorflow>=1.13.1->aif360==0.4.0) (1.6.3)\n",
            "Requirement already satisfied: absl-py~=0.10 in /usr/local/lib/python3.7/dist-packages (from tensorflow>=1.13.1->aif360==0.4.0) (0.12.0)\n",
            "Requirement already satisfied: keras-preprocessing~=1.1.2 in /usr/local/lib/python3.7/dist-packages (from tensorflow>=1.13.1->aif360==0.4.0) (1.1.2)\n",
            "Requirement already satisfied: termcolor~=1.1.0 in /usr/local/lib/python3.7/dist-packages (from tensorflow>=1.13.1->aif360==0.4.0) (1.1.0)\n",
            "Requirement already satisfied: tensorflow-estimator<2.5.0,>=2.4.0 in /usr/local/lib/python3.7/dist-packages (from tensorflow>=1.13.1->aif360==0.4.0) (2.4.0)\n",
            "Requirement already satisfied: protobuf>=3.9.2 in /usr/local/lib/python3.7/dist-packages (from tensorflow>=1.13.1->aif360==0.4.0) (3.12.4)\n",
            "Requirement already satisfied: typing-extensions~=3.7.4 in /usr/local/lib/python3.7/dist-packages (from tensorflow>=1.13.1->aif360==0.4.0) (3.7.4.3)\n",
            "Requirement already satisfied: flatbuffers~=1.12.0 in /usr/local/lib/python3.7/dist-packages (from tensorflow>=1.13.1->aif360==0.4.0) (1.12)\n",
            "Requirement already satisfied: grpcio~=1.32.0 in /usr/local/lib/python3.7/dist-packages (from tensorflow>=1.13.1->aif360==0.4.0) (1.32.0)\n",
            "Requirement already satisfied: wheel~=0.35 in /usr/local/lib/python3.7/dist-packages (from tensorflow>=1.13.1->aif360==0.4.0) (0.36.2)\n",
            "Requirement already satisfied: certifi>=2017.4.17 in /usr/local/lib/python3.7/dist-packages (from requests->tempeh->aif360==0.4.0) (2020.12.5)\n",
            "Requirement already satisfied: chardet<4,>=3.0.2 in /usr/local/lib/python3.7/dist-packages (from requests->tempeh->aif360==0.4.0) (3.0.4)\n",
            "Requirement already satisfied: urllib3!=1.25.0,!=1.25.1,<1.26,>=1.21.1 in /usr/local/lib/python3.7/dist-packages (from requests->tempeh->aif360==0.4.0) (1.24.3)\n",
            "Requirement already satisfied: idna<3,>=2.5 in /usr/local/lib/python3.7/dist-packages (from requests->tempeh->aif360==0.4.0) (2.10)\n",
            "Requirement already satisfied: psutil in /usr/local/lib/python3.7/dist-packages (from memory-profiler->tempeh->aif360==0.4.0) (5.4.8)\n",
            "Collecting slicer==0.0.7\n",
            "  Downloading https://files.pythonhosted.org/packages/78/c2/b3f55dfdb8af9812fdb9baf70cacf3b9e82e505b2bd4324d588888b81202/slicer-0.0.7-py3-none-any.whl\n",
            "Requirement already satisfied: cloudpickle in /usr/local/lib/python3.7/dist-packages (from shap->tempeh->aif360==0.4.0) (1.3.0)\n",
            "Requirement already satisfied: sphinxcontrib-serializinghtml in /usr/local/lib/python3.7/dist-packages (from sphinxcontrib-websupport->sphinx->aif360==0.4.0) (1.1.4)\n",
            "Requirement already satisfied: MarkupSafe>=0.23 in /usr/local/lib/python3.7/dist-packages (from Jinja2>=2.3->sphinx->aif360==0.4.0) (1.1.1)\n",
            "Requirement already satisfied: decorator<5,>=4.3 in /usr/local/lib/python3.7/dist-packages (from networkx->BlackBoxAuditing->aif360==0.4.0) (4.4.2)\n",
            "Collecting mypy-extensions<0.5.0,>=0.4.3\n",
            "  Downloading https://files.pythonhosted.org/packages/5c/eb/975c7c080f3223a5cdaff09612f3a5221e4ba534f7039db34c35d95fa6a5/mypy_extensions-0.4.3-py2.py3-none-any.whl\n",
            "Collecting typed-ast<1.5.0,>=1.4.0\n",
            "\u001b[?25l  Downloading https://files.pythonhosted.org/packages/65/b3/573d2f1fecbbe8f82a8d08172e938c247f99abe1be3bef3da2efaa3810bf/typed_ast-1.4.3-cp37-cp37m-manylinux1_x86_64.whl (743kB)\n",
            "\u001b[K     |████████████████████████████████| 747kB 42.4MB/s \n",
            "\u001b[?25hRequirement already satisfied: future in /usr/local/lib/python3.7/dist-packages (from ffmpeg-python->adversarial-robustness-toolbox>=1.0.0->aif360==0.4.0) (0.16.0)\n",
            "Collecting llvmlite<0.37,>=0.36.0rc1\n",
            "\u001b[?25l  Downloading https://files.pythonhosted.org/packages/54/25/2b4015e2b0c3be2efa6870cf2cf2bd969dd0e5f937476fc13c102209df32/llvmlite-0.36.0-cp37-cp37m-manylinux2010_x86_64.whl (25.3MB)\n",
            "\u001b[K     |████████████████████████████████| 25.3MB 1.4MB/s \n",
            "\u001b[?25hRequirement already satisfied: patsy>=0.4.0 in /usr/local/lib/python3.7/dist-packages (from statsmodels->adversarial-robustness-toolbox>=1.0.0->aif360==0.4.0) (0.5.1)\n",
            "Requirement already satisfied: dill>=0.3.3 in /usr/local/lib/python3.7/dist-packages (from multiprocess->cvxpy>=1.0->aif360==0.4.0) (0.3.3)\n",
            "Requirement already satisfied: qdldl in /usr/local/lib/python3.7/dist-packages (from osqp>=0.4.1->cvxpy>=1.0->aif360==0.4.0) (0.1.5.post0)\n",
            "Requirement already satisfied: jupyter-client in /usr/local/lib/python3.7/dist-packages (from jupyter-console->jupyter->aif360==0.4.0) (5.3.5)\n",
            "Requirement already satisfied: prompt-toolkit<2.0.0,>=1.0.0 in /usr/local/lib/python3.7/dist-packages (from jupyter-console->jupyter->aif360==0.4.0) (1.0.18)\n",
            "Requirement already satisfied: ipython in /usr/local/lib/python3.7/dist-packages (from jupyter-console->jupyter->aif360==0.4.0) (5.5.0)\n",
            "Requirement already satisfied: traitlets>=4.3.1 in /usr/local/lib/python3.7/dist-packages (from ipywidgets->jupyter->aif360==0.4.0) (5.0.5)\n",
            "Requirement already satisfied: widgetsnbextension~=3.5.0 in /usr/local/lib/python3.7/dist-packages (from ipywidgets->jupyter->aif360==0.4.0) (3.5.1)\n",
            "Requirement already satisfied: nbformat>=4.2.0 in /usr/local/lib/python3.7/dist-packages (from ipywidgets->jupyter->aif360==0.4.0) (5.1.3)\n",
            "Requirement already satisfied: jupyterlab-widgets>=1.0.0; python_version >= \"3.6\" in /usr/local/lib/python3.7/dist-packages (from ipywidgets->jupyter->aif360==0.4.0) (1.0.0)\n",
            "Requirement already satisfied: jupyter-core in /usr/local/lib/python3.7/dist-packages (from qtconsole->jupyter->aif360==0.4.0) (4.7.1)\n",
            "Requirement already satisfied: ipython-genutils in /usr/local/lib/python3.7/dist-packages (from qtconsole->jupyter->aif360==0.4.0) (0.2.0)\n",
            "Requirement already satisfied: pyzmq>=17.1 in /usr/local/lib/python3.7/dist-packages (from qtconsole->jupyter->aif360==0.4.0) (22.0.3)\n",
            "Requirement already satisfied: qtpy in /usr/local/lib/python3.7/dist-packages (from qtconsole->jupyter->aif360==0.4.0) (1.9.0)\n",
            "Requirement already satisfied: tornado>=4.0 in /usr/local/lib/python3.7/dist-packages (from ipykernel->jupyter->aif360==0.4.0) (5.1.1)\n",
            "Requirement already satisfied: Send2Trash in /usr/local/lib/python3.7/dist-packages (from notebook->jupyter->aif360==0.4.0) (1.5.0)\n",
            "Requirement already satisfied: terminado>=0.8.1 in /usr/local/lib/python3.7/dist-packages (from notebook->jupyter->aif360==0.4.0) (0.9.4)\n",
            "Requirement already satisfied: testpath in /usr/local/lib/python3.7/dist-packages (from nbconvert->jupyter->aif360==0.4.0) (0.4.4)\n",
            "Requirement already satisfied: bleach in /usr/local/lib/python3.7/dist-packages (from nbconvert->jupyter->aif360==0.4.0) (3.3.0)\n",
            "Requirement already satisfied: defusedxml in /usr/local/lib/python3.7/dist-packages (from nbconvert->jupyter->aif360==0.4.0) (0.7.1)\n",
            "Requirement already satisfied: mistune<2,>=0.8.1 in /usr/local/lib/python3.7/dist-packages (from nbconvert->jupyter->aif360==0.4.0) (0.8.4)\n",
            "Requirement already satisfied: entrypoints>=0.2.2 in /usr/local/lib/python3.7/dist-packages (from nbconvert->jupyter->aif360==0.4.0) (0.3)\n",
            "Requirement already satisfied: pandocfilters>=1.4.1 in /usr/local/lib/python3.7/dist-packages (from nbconvert->jupyter->aif360==0.4.0) (1.4.3)\n",
            "Requirement already satisfied: imageio>=2.3.0 in /usr/local/lib/python3.7/dist-packages (from scikit-image>=0.12->lime->aif360==0.4.0) (2.4.1)\n",
            "Requirement already satisfied: PyWavelets>=0.4.0 in /usr/local/lib/python3.7/dist-packages (from scikit-image>=0.12->lime->aif360==0.4.0) (1.1.1)\n",
            "Requirement already satisfied: tensorboard-plugin-wit>=1.6.0 in /usr/local/lib/python3.7/dist-packages (from tensorboard~=2.4->tensorflow>=1.13.1->aif360==0.4.0) (1.8.0)\n",
            "Requirement already satisfied: google-auth<2,>=1.6.3 in /usr/local/lib/python3.7/dist-packages (from tensorboard~=2.4->tensorflow>=1.13.1->aif360==0.4.0) (1.28.1)\n",
            "Requirement already satisfied: werkzeug>=0.11.15 in /usr/local/lib/python3.7/dist-packages (from tensorboard~=2.4->tensorflow>=1.13.1->aif360==0.4.0) (1.0.1)\n",
            "Requirement already satisfied: markdown>=2.6.8 in /usr/local/lib/python3.7/dist-packages (from tensorboard~=2.4->tensorflow>=1.13.1->aif360==0.4.0) (3.3.4)\n",
            "Requirement already satisfied: google-auth-oauthlib<0.5,>=0.4.1 in /usr/local/lib/python3.7/dist-packages (from tensorboard~=2.4->tensorflow>=1.13.1->aif360==0.4.0) (0.4.4)\n",
            "Requirement already satisfied: wcwidth in /usr/local/lib/python3.7/dist-packages (from prompt-toolkit<2.0.0,>=1.0.0->jupyter-console->jupyter->aif360==0.4.0) (0.2.5)\n",
            "Requirement already satisfied: simplegeneric>0.8 in /usr/local/lib/python3.7/dist-packages (from ipython->jupyter-console->jupyter->aif360==0.4.0) (0.8.1)\n",
            "Requirement already satisfied: pexpect; sys_platform != \"win32\" in /usr/local/lib/python3.7/dist-packages (from ipython->jupyter-console->jupyter->aif360==0.4.0) (4.8.0)\n",
            "Requirement already satisfied: pickleshare in /usr/local/lib/python3.7/dist-packages (from ipython->jupyter-console->jupyter->aif360==0.4.0) (0.7.5)\n",
            "Requirement already satisfied: jsonschema!=2.5.0,>=2.4 in /usr/local/lib/python3.7/dist-packages (from nbformat>=4.2.0->ipywidgets->jupyter->aif360==0.4.0) (2.6.0)\n",
            "Requirement already satisfied: ptyprocess; os_name != \"nt\" in /usr/local/lib/python3.7/dist-packages (from terminado>=0.8.1->notebook->jupyter->aif360==0.4.0) (0.7.0)\n",
            "Requirement already satisfied: webencodings in /usr/local/lib/python3.7/dist-packages (from bleach->nbconvert->jupyter->aif360==0.4.0) (0.5.1)\n",
            "Requirement already satisfied: cachetools<5.0,>=2.0.0 in /usr/local/lib/python3.7/dist-packages (from google-auth<2,>=1.6.3->tensorboard~=2.4->tensorflow>=1.13.1->aif360==0.4.0) (4.2.1)\n",
            "Requirement already satisfied: pyasn1-modules>=0.2.1 in /usr/local/lib/python3.7/dist-packages (from google-auth<2,>=1.6.3->tensorboard~=2.4->tensorflow>=1.13.1->aif360==0.4.0) (0.2.8)\n",
            "Requirement already satisfied: rsa<5,>=3.1.4; python_version >= \"3.6\" in /usr/local/lib/python3.7/dist-packages (from google-auth<2,>=1.6.3->tensorboard~=2.4->tensorflow>=1.13.1->aif360==0.4.0) (4.7.2)\n",
            "Requirement already satisfied: importlib-metadata; python_version < \"3.8\" in /usr/local/lib/python3.7/dist-packages (from markdown>=2.6.8->tensorboard~=2.4->tensorflow>=1.13.1->aif360==0.4.0) (3.10.1)\n",
            "Requirement already satisfied: requests-oauthlib>=0.7.0 in /usr/local/lib/python3.7/dist-packages (from google-auth-oauthlib<0.5,>=0.4.1->tensorboard~=2.4->tensorflow>=1.13.1->aif360==0.4.0) (1.3.0)\n",
            "Requirement already satisfied: pyasn1<0.5.0,>=0.4.6 in /usr/local/lib/python3.7/dist-packages (from pyasn1-modules>=0.2.1->google-auth<2,>=1.6.3->tensorboard~=2.4->tensorflow>=1.13.1->aif360==0.4.0) (0.4.8)\n",
            "Requirement already satisfied: zipp>=0.5 in /usr/local/lib/python3.7/dist-packages (from importlib-metadata; python_version < \"3.8\"->markdown>=2.6.8->tensorboard~=2.4->tensorflow>=1.13.1->aif360==0.4.0) (3.4.1)\n",
            "Requirement already satisfied: oauthlib>=3.0.0 in /usr/local/lib/python3.7/dist-packages (from requests-oauthlib>=0.7.0->google-auth-oauthlib<0.5,>=0.4.1->tensorboard~=2.4->tensorflow>=1.13.1->aif360==0.4.0) (3.1.0)\n",
            "Building wheels for collected packages: aif360, BlackBoxAuditing, lime, memory-profiler, shap\n",
            "  Building wheel for aif360 (setup.py) ... \u001b[?25l\u001b[?25hdone\n",
            "  Created wheel for aif360: filename=aif360-0.4.0-cp37-none-any.whl size=557694 sha256=44c5e2245483bdec0579d5c2c89b8b2f768f8c1527adbb9a2793bafdff271c3f\n",
            "  Stored in directory: /tmp/pip-ephem-wheel-cache-o9tim2ab/wheels/98/c1/ab/d8fba482498b80dd95f0c1940d349fb383ee734c04245e4a8e\n",
            "  Building wheel for BlackBoxAuditing (setup.py) ... \u001b[?25l\u001b[?25hdone\n",
            "  Created wheel for BlackBoxAuditing: filename=BlackBoxAuditing-0.1.54-py2.py3-none-any.whl size=1394769 sha256=812ac518f32ff53ddf3754d4e133c8da9aa973e4f6485ff217798c8defff8130\n",
            "  Stored in directory: /root/.cache/pip/wheels/66/82/7b/ac2a79b8caf97e15ed415162a7f272cbba1e2e2c851fa76ae3\n",
            "  Building wheel for lime (setup.py) ... \u001b[?25l\u001b[?25hdone\n",
            "  Created wheel for lime: filename=lime-0.2.0.1-cp37-none-any.whl size=283846 sha256=41dc183f6b4f510db486459731ddb2646d97cd39b2388f9f2c7c92f62a55bc66\n",
            "  Stored in directory: /root/.cache/pip/wheels/4c/4f/a5/0bc765457bd41378bf3ce8d17d7495369d6e7ca3b712c60c89\n",
            "  Building wheel for memory-profiler (setup.py) ... \u001b[?25l\u001b[?25hdone\n",
            "  Created wheel for memory-profiler: filename=memory_profiler-0.58.0-cp37-none-any.whl size=30180 sha256=41ffef339ad28d7389cd46ed5092992922fa297445587728192d60719267b92d\n",
            "  Stored in directory: /root/.cache/pip/wheels/02/e4/0b/aaab481fc5dd2a4ea59e78bc7231bb6aae7635ca7ee79f8ae5\n",
            "  Building wheel for shap (setup.py) ... \u001b[?25l\u001b[?25hdone\n",
            "  Created wheel for shap: filename=shap-0.39.0-cp37-cp37m-linux_x86_64.whl size=491626 sha256=53090f3c0d36a7e6c5364be15e39bb9bed25a868e38f69848e1c18ffd7a25c59\n",
            "  Stored in directory: /root/.cache/pip/wheels/15/27/f5/a8ab9da52fd159aae6477b5ede6eaaec69fd130fa0fa59f283\n",
            "Successfully built aif360 BlackBoxAuditing lime memory-profiler shap\n",
            "\u001b[31mERROR: sphinx-rtd-theme 0.5.2 has requirement docutils<0.17, but you'll have docutils 0.17 which is incompatible.\u001b[0m\n",
            "Installing collected packages: memory-profiler, slicer, llvmlite, numba, shap, tempeh, BlackBoxAuditing, mypy-extensions, typed-ast, mypy, pydub, cma, ffmpeg-python, adversarial-robustness-toolbox, sphinx-rtd-theme, lime, fairlearn, aif360\n",
            "  Found existing installation: llvmlite 0.34.0\n",
            "    Uninstalling llvmlite-0.34.0:\n",
            "      Successfully uninstalled llvmlite-0.34.0\n",
            "  Found existing installation: numba 0.51.2\n",
            "    Uninstalling numba-0.51.2:\n",
            "      Successfully uninstalled numba-0.51.2\n",
            "Successfully installed BlackBoxAuditing-0.1.54 adversarial-robustness-toolbox-1.6.1 aif360-0.4.0 cma-3.0.3 fairlearn-0.4.6 ffmpeg-python-0.2.0 lime-0.2.0.1 llvmlite-0.36.0 memory-profiler-0.58.0 mypy-0.812 mypy-extensions-0.4.3 numba-0.53.1 pydub-0.25.1 shap-0.39.0 slicer-0.0.7 sphinx-rtd-theme-0.5.2 tempeh-0.1.12 typed-ast-1.4.3\n"
          ],
          "name": "stdout"
        }
      ]
    },
    {
      "cell_type": "markdown",
      "metadata": {
        "id": "31V3grha3NNR"
      },
      "source": [
        "Download data\n"
      ]
    },
    {
      "cell_type": "code",
      "metadata": {
        "colab": {
          "base_uri": "https://localhost:8080/"
        },
        "id": "Rk-DyqaK3PxM",
        "outputId": "d2a1729d-0449-417b-ee2c-e566ce9d12e0"
      },
      "source": [
        "import urllib.request \n",
        "\n",
        "urls = [\n",
        "  \"https://archive.ics.uci.edu/ml/machine-learning-databases/adult/adult.data\",\n",
        "\t\"https://archive.ics.uci.edu/ml/machine-learning-databases/adult/adult.test\",\n",
        "\t\"https://archive.ics.uci.edu/ml/machine-learning-databases/adult/adult.names\",\n",
        "  \"\thttps://raw.githubusercontent.com/propublica/compas-analysis/master/compas-scores-two-years.csv\"\n",
        "]\n",
        "\n",
        "filenames = [\n",
        "  \"/usr/local/lib/python3.7/dist-packages/aif360/data/raw/adult/adult.data\",\n",
        "  \"/usr/local/lib/python3.7/dist-packages/aif360/data/raw/adult/adult.test\",\n",
        "  \"/usr/local/lib/python3.7/dist-packages/aif360/data/raw/adult/adult.names\",\n",
        "  \"/usr/local/lib/python3.7/dist-packages/aif360/data/raw/compas/compas-scores-two-years.csv\"\n",
        "]\n",
        "\n",
        "for i in range(len(urls)):\n",
        "  url = urls[i]\n",
        "  filename = filenames[i]\n",
        "  print(url)\n",
        "  print(filename)\n",
        "  urllib.request.urlretrieve(url, filename)"
      ],
      "execution_count": 4,
      "outputs": [
        {
          "output_type": "stream",
          "text": [
            "https://archive.ics.uci.edu/ml/machine-learning-databases/adult/adult.data\n",
            "/usr/local/lib/python3.7/dist-packages/aif360/data/raw/adult/adult.data\n",
            "https://archive.ics.uci.edu/ml/machine-learning-databases/adult/adult.test\n",
            "/usr/local/lib/python3.7/dist-packages/aif360/data/raw/adult/adult.test\n",
            "https://archive.ics.uci.edu/ml/machine-learning-databases/adult/adult.names\n",
            "/usr/local/lib/python3.7/dist-packages/aif360/data/raw/adult/adult.names\n",
            "\thttps://raw.githubusercontent.com/propublica/compas-analysis/master/compas-scores-two-years.csv\n",
            "/usr/local/lib/python3.7/dist-packages/aif360/data/raw/compas/compas-scores-two-years.csv\n"
          ],
          "name": "stdout"
        }
      ]
    },
    {
      "cell_type": "code",
      "metadata": {
        "colab": {
          "base_uri": "https://localhost:8080/"
        },
        "id": "eaFfNOHqUfvA",
        "outputId": "9ac8375f-e7ee-4e5f-de39-0cb645609f11"
      },
      "source": [
        "%cd examples"
      ],
      "execution_count": 5,
      "outputs": [
        {
          "output_type": "stream",
          "text": [
            "/content/AIF360/examples\n"
          ],
          "name": "stdout"
        }
      ]
    },
    {
      "cell_type": "markdown",
      "metadata": {
        "id": "B0XaaJklFFTP"
      },
      "source": [
        "### **Define Modified CalibratedEqOddsPostprocessing and Reject Option Classification**\n",
        "\n",
        "VariableCEP uses set_NP to adjust false positive / false negative tradeoff\n",
        "\n",
        "InquisitiveRejectOptionClassification uses **bold text**"
      ]
    },
    {
      "cell_type": "code",
      "metadata": {
        "id": "wVPYyLHAECFh"
      },
      "source": [
        "from aif360.algorithms.postprocessing.calibrated_eq_odds_postprocessing import CalibratedEqOddsPostprocessing\n",
        "from aif360.metrics.binary_label_dataset_metric import BinaryLabelDatasetMetric\n",
        "from aif360.metrics.classification_metric import ClassificationMetric\n",
        "import numpy as np\n",
        "\n",
        "class VariableCEP(CalibratedEqOddsPostprocessing):\n",
        "    def set_NP(self, NP_rate):\n",
        "      \"overrides CEP false negative and fales positive rates with input\"\n",
        "      self.fn_rate = NP_rate[0]\n",
        "      self.fp_rate = NP_rate[1]\n",
        "    \n",
        "\n",
        "def normed_rates(fp_rate, fn_rate):\n",
        "    norm_const = float(fp_rate + fn_rate) if\\\n",
        "                      (fp_rate != 0 and fn_rate != 0) else 1\n",
        "    return (fp_rate / norm_const), (fn_rate / norm_const)\n",
        "\n",
        "\n",
        "from aif360.algorithms.postprocessing.reject_option_classification\\\n",
        "        import RejectOptionClassification\n",
        "\n",
        "class InquisitiveRejectOptionClassification(RejectOptionClassification):\n",
        "\n",
        "  def fit(self, dataset_true, dataset_pred, metric_fn=None):\n",
        "      \"\"\"Estimates the optimal classification threshold and margin for reject\n",
        "      option classification that optimizes the metric provided.\n",
        "      Note:\n",
        "          The `fit` function is a no-op for this algorithm.\n",
        "      Args:\n",
        "          dataset_true (BinaryLabelDataset): Dataset containing the true\n",
        "              `labels`.\n",
        "          dataset_pred (BinaryLabelDataset): Dataset containing the predicted\n",
        "              `scores`.\n",
        "      Returns:\n",
        "          RejectOptionClassification: Returns self.\n",
        "      \"\"\"\n",
        "      fair_metric_arr = np.zeros(self.num_class_thresh*self.num_ROC_margin)\n",
        "      balanced_acc_arr = np.zeros_like(fair_metric_arr)\n",
        "      ROC_margin_arr = np.zeros_like(fair_metric_arr)\n",
        "      class_thresh_arr = np.zeros_like(fair_metric_arr)\n",
        "\n",
        "      cnt = 0\n",
        "      # Iterate through class thresholds\n",
        "      for class_thresh in np.linspace(self.low_class_thresh,\n",
        "                                      self.high_class_thresh,\n",
        "                                      self.num_class_thresh):\n",
        "\n",
        "          self.classification_threshold = class_thresh\n",
        "          if class_thresh <= 0.5:\n",
        "              low_ROC_margin = 0.0\n",
        "              high_ROC_margin = class_thresh\n",
        "          else:\n",
        "              low_ROC_margin = 0.0\n",
        "              high_ROC_margin = (1.0-class_thresh)\n",
        "\n",
        "          # Iterate through ROC margins\n",
        "          for ROC_margin in np.linspace(\n",
        "                              low_ROC_margin,\n",
        "                              high_ROC_margin,\n",
        "                              self.num_ROC_margin):\n",
        "              self.ROC_margin = ROC_margin\n",
        "\n",
        "              # Predict using the current threshold and margin\n",
        "              dataset_transf_pred = self.predict(dataset_pred)\n",
        "\n",
        "              dataset_transf_metric_pred = BinaryLabelDatasetMetric(\n",
        "                                            dataset_transf_pred,\n",
        "                                            unprivileged_groups=self.unprivileged_groups,\n",
        "                                            privileged_groups=self.privileged_groups)\n",
        "              classified_transf_metric = ClassificationMetric(\n",
        "                                            dataset_true,\n",
        "                                            dataset_transf_pred,\n",
        "                                            unprivileged_groups=self.unprivileged_groups,\n",
        "                                            privileged_groups=self.privileged_groups)\n",
        "\n",
        "              ROC_margin_arr[cnt] = self.ROC_margin\n",
        "              class_thresh_arr[cnt] = self.classification_threshold\n",
        "\n",
        "              # Balanced accuracy and fairness metric computations\n",
        "              balanced_acc_arr[cnt] = 0.5*(classified_transf_metric.true_positive_rate()\\\n",
        "                                      +classified_transf_metric.true_negative_rate())\n",
        "              \n",
        "              \"\"\"\n",
        "              CHANGE: Accept arbitrary metric function\n",
        "              \"\"\"\n",
        "              \n",
        "              if metric_fn:\n",
        "                  fair_metric_arr[cnt] = metric_fn(classified_transf_metric)\n",
        "              ###\n",
        "              \n",
        "              elif self.metric_name == \"Statistical parity difference\":\n",
        "                  fair_metric_arr[cnt] = dataset_transf_metric_pred.mean_difference()\n",
        "              elif self.metric_name == \"Average odds difference\":\n",
        "                  fair_metric_arr[cnt] = classified_transf_metric.average_odds_difference()\n",
        "              elif self.metric_name == \"Equal opportunity difference\":\n",
        "                  fair_metric_arr[cnt] = classified_transf_metric.equal_opportunity_difference()\n",
        "              \n",
        "              \n",
        "\n",
        "              cnt += 1\n",
        "\n",
        "      rel_inds = np.logical_and(fair_metric_arr >= self.metric_lb,\n",
        "                                fair_metric_arr <= self.metric_ub)\n",
        "      if any(rel_inds):\n",
        "          best_ind = np.where(balanced_acc_arr[rel_inds]\n",
        "                              == np.max(balanced_acc_arr[rel_inds]))[0][0]\n",
        "      else:\n",
        "          print(\"Unable to satisfy fairness constraints\")\n",
        "          rel_inds = np.ones(len(fair_metric_arr), dtype=bool)\n",
        "          best_ind = np.where(fair_metric_arr[rel_inds]\n",
        "                              == np.min(fair_metric_arr[rel_inds]))[0][0]\n",
        "\n",
        "      self.ROC_margin = ROC_margin_arr[rel_inds][best_ind]\n",
        "      self.classification_threshold = class_thresh_arr[rel_inds][best_ind]\n",
        "\n",
        "      return self"
      ],
      "execution_count": 7,
      "outputs": []
    },
    {
      "cell_type": "markdown",
      "metadata": {
        "id": "W45OSKC6FMby"
      },
      "source": [
        "Import Everything needed"
      ]
    },
    {
      "cell_type": "code",
      "metadata": {
        "id": "V4MRumjXE_Br"
      },
      "source": [
        "# Load all necessary packages\n",
        "import sys\n",
        "import numpy as np\n",
        "import pandas as pd\n",
        "\n",
        "sys.path.append(\"../\")\n",
        "from aif360.datasets import AdultDataset, GermanDataset, CompasDataset\n",
        "from aif360.metrics import BinaryLabelDatasetMetric\n",
        "from aif360.metrics import ClassificationMetric\n",
        "from aif360.metrics.utils import compute_boolean_conditioning_vector\n",
        "from aif360.algorithms.preprocessing.optim_preproc_helpers.data_preproc_functions\\\n",
        "                import load_preproc_data_adult, load_preproc_data_compas\n",
        "\n",
        "from sklearn.preprocessing import scale\n",
        "from sklearn.linear_model import LogisticRegression\n",
        "\n",
        "from IPython.display import Markdown, display\n",
        "import matplotlib.pyplot as plt\n",
        "from tqdm import tqdm\n",
        "from sklearn.linear_model import LogisticRegression\n",
        "from sklearn.preprocessing import StandardScaler\n",
        "from sklearn.metrics import roc_curve\n",
        "\n",
        "from sklearn.model_selection import KFold as cross_val_split\n",
        "from scipy import optimize"
      ],
      "execution_count": 8,
      "outputs": []
    },
    {
      "cell_type": "markdown",
      "metadata": {
        "id": "crh1o0rADzDq"
      },
      "source": [
        "## **Calibrated Equalized Odds Postprocessing w. False Negative/False Positive Rates**"
      ]
    },
    {
      "cell_type": "markdown",
      "metadata": {
        "id": "gEf-986fw0Y9"
      },
      "source": [
        "### Define search parameters, dataset and fairness metrics used"
      ]
    },
    {
      "cell_type": "code",
      "metadata": {
        "id": "gkS9_FuTEmV7"
      },
      "source": [
        "## import dataset - use compas\n",
        "dataset_used = \"compas\" # \"adult\", \"compas\"\n",
        "\n",
        "protected_attribute_used = 2 # 1, 2 #race is 2\n",
        "\n",
        "#random seed for calibrated equal odds prediction\n",
        "randseed = 12345679\n",
        "\n",
        "#train/validation-test split\n",
        "train_split = 0.7\n",
        "#for each fold - validation split (1-test split)\n",
        "split_interv = 0.5\n",
        "\n",
        "#classification threshold\n",
        "class_thresh = 0.5\n",
        "\n",
        "#include 0,1 values when performing sweep\n",
        "include = False\n",
        "\n",
        "#Number of K-fold cv repeats\n",
        "N_reps = 3\n",
        "#number of values between 0,1 for weight of f1 vs f2\n",
        "N_values = 10\n",
        "\n",
        "#for if you're using ROC - which f1, f2 to use for output results AND optimization\n",
        "f1_name = 'false_negative_rate'\n",
        "f2_name = 'false_positive_rate'\n",
        "\n",
        "#disable to use ROC optimiser, enable to use cpp optimizer\n",
        "use_cpp = True"
      ],
      "execution_count": 9,
      "outputs": []
    },
    {
      "cell_type": "code",
      "metadata": {
        "id": "BhNVAv3fEq93",
        "colab": {
          "base_uri": "https://localhost:8080/"
        },
        "outputId": "11f24fbb-41c4-4194-fafa-a3789c012156"
      },
      "source": [
        "# code to identify the protected attributes from all of the dataset features\n",
        "if dataset_used == \"adult\":\n",
        "    dataset_orig = AdultDataset()\n",
        "#     dataset_orig = load_preproc_data_adult()\n",
        "    if protected_attribute_used == 1:\n",
        "        privileged_groups = [{'sex': 1}]\n",
        "        unprivileged_groups = [{'sex': 0}]\n",
        "    else:\n",
        "        privileged_groups = [{'race': 1}]\n",
        "        unprivileged_groups = [{'race': 0}]\n",
        "    \n",
        "elif dataset_used == \"german\":\n",
        "    dataset_orig = GermanDataset()\n",
        "    if protected_attribute_used == 1:\n",
        "        privileged_groups = [{'sex': 1}]\n",
        "        unprivileged_groups = [{'sex': 0}]\n",
        "    else:\n",
        "        privileged_groups = [{'age': 1}]\n",
        "        unprivileged_groups = [{'age': 0}]\n",
        "    \n",
        "elif dataset_used == \"compas\":\n",
        "    from aif360.datasets.compas_dataset import CompasDataset\n",
        "    dataset_orig = CompasDataset()\n",
        "    dataset_orig = load_preproc_data_compas()\n",
        "    if protected_attribute_used == 1:\n",
        "        privileged_groups = [{'sex': 1}]\n",
        "        unprivileged_groups = [{'sex': 0}]\n",
        "    else:\n",
        "        privileged_groups = [{'race': 1}]\n",
        "        unprivileged_groups = [{'race': 0}]  "
      ],
      "execution_count": 10,
      "outputs": [
        {
          "output_type": "stream",
          "text": [
            "WARNING:root:Missing Data: 5 rows removed from CompasDataset.\n"
          ],
          "name": "stderr"
        }
      ]
    },
    {
      "cell_type": "code",
      "metadata": {
        "id": "aKwIcBsRGPEQ"
      },
      "source": [
        "#train validation&test split\n",
        "dataset_orig_train, dataset_orig_vt = dataset_orig.split([train_split], shuffle=True)"
      ],
      "execution_count": 11,
      "outputs": []
    },
    {
      "cell_type": "markdown",
      "metadata": {
        "id": "R5xQcGCNxPvi"
      },
      "source": [
        "### Logistic Regression Baseline"
      ]
    },
    {
      "cell_type": "code",
      "metadata": {
        "id": "80ZBgebMGStR"
      },
      "source": [
        "# Placeholder for predicted and transformed datasets\n",
        "dataset_orig_train_pred = dataset_orig_train.copy(deepcopy=True)\n",
        "\n",
        "# Logistic regression classifier and predictions for training data\n",
        "scale_orig = StandardScaler()\n",
        "X_train = scale_orig.fit_transform(dataset_orig_train.features)\n",
        "y_train = dataset_orig_train.labels.ravel()\n",
        "lmod = LogisticRegression() #logregression\n",
        "\n",
        "#fit original model\n",
        "lmod.fit(X_train, y_train)\n",
        "\n",
        "fav_idx = np.where(lmod.classes_ == dataset_orig_train.favorable_label)[0][0]\n",
        "y_train_pred_prob = lmod.predict_proba(X_train)[:,fav_idx]\n",
        "\n",
        "# Prediction probs for training data\n",
        "dataset_orig_train_pred.scores = y_train_pred_prob.reshape(-1,1)\n",
        "\n",
        "y_train_pred = np.zeros_like(dataset_orig_train_pred.labels)\n",
        "y_train_pred[y_train_pred_prob >= class_thresh] = dataset_orig_train_pred.favorable_label\n",
        "y_train_pred[~(y_train_pred_prob >= class_thresh)] = dataset_orig_train_pred.unfavorable_label\n",
        "dataset_orig_train_pred.labels = y_train_pred"
      ],
      "execution_count": 12,
      "outputs": []
    },
    {
      "cell_type": "markdown",
      "metadata": {
        "id": "TUVSLogexXAK"
      },
      "source": [
        "### Set up both postprocessor and search"
      ]
    },
    {
      "cell_type": "code",
      "metadata": {
        "id": "lWn0aHMmGWDn"
      },
      "source": [
        "#\n",
        "# set up tradeoff cost-benefit calculation\n",
        "#\n",
        "\n",
        "negs = []\n",
        "accs = []\n",
        "fps = []\n",
        "fns = []\n",
        "privileged_options = [True,False,None]\n",
        "\n",
        "\n",
        "#whether to include all fp and all fn cost functions (True)\n",
        "if include == True:\n",
        "    n_range = np.linspace(0.00,1.00,N_values)\n",
        "if include == False:\n",
        "    n_range = np.linspace(0.01,0.99,N_values)"
      ],
      "execution_count": 13,
      "outputs": []
    },
    {
      "cell_type": "code",
      "metadata": {
        "id": "3UUky2utGg7D"
      },
      "source": [
        "#set up equalized odds processing\n",
        "cpp = VariableCEP(privileged_groups = privileged_groups,\n",
        "                                        unprivileged_groups = unprivileged_groups,\n",
        "                                        seed=randseed)\n",
        "#ROC\n",
        "ROC = InquisitiveRejectOptionClassification(unprivileged_groups=unprivileged_groups, \n",
        "                                 privileged_groups=privileged_groups, \n",
        "                                 low_class_thresh=0.01, high_class_thresh=0.99,\n",
        "                                  num_class_thresh=100, num_ROC_margin=50,\n",
        "                                  # metric_name=metric_name,\n",
        "                                  metric_ub=0.05, metric_lb=-0.05)"
      ],
      "execution_count": 14,
      "outputs": []
    },
    {
      "cell_type": "code",
      "metadata": {
        "id": "8HHXicq7G0bv"
      },
      "source": [
        "if use_cpp == True:\n",
        "    post_processor = cpp\n",
        "elif use_cpp == False:\n",
        "    post_processor = ROC"
      ],
      "execution_count": 15,
      "outputs": []
    },
    {
      "cell_type": "markdown",
      "metadata": {
        "id": "XdxrYL2lG2lo"
      },
      "source": [
        "### Generate randomly shuffled K-folds"
      ]
    },
    {
      "cell_type": "code",
      "metadata": {
        "id": "lfIFQ7MoG16W"
      },
      "source": [
        "def vt_split_process(dataset_orig_vt,split_indexes,shuf,class_thresh):\n",
        "    dataset_orig_valid, dataset_orig_test = dataset_orig_vt.split(num_or_size_splits=split_indexes,shuffle=shuf,seed=randseed)#validation_test split)\n",
        "    dataset_orig_valid_pred = dataset_orig_valid.copy(deepcopy=True)\n",
        "    dataset_orig_test_pred = dataset_orig_test.copy(deepcopy=True)\n",
        "\n",
        "    dataset_new_valid_pred = dataset_orig_valid.copy(deepcopy=True)\n",
        "    dataset_new_test_pred = dataset_orig_test.copy(deepcopy=True)\n",
        "\n",
        "    X_valid = scale_orig.transform(dataset_orig_valid.features)\n",
        "    y_valid_pred_prob = lmod.predict_proba(X_valid)[:,fav_idx]\n",
        "\n",
        "    X_test = scale_orig.transform(dataset_orig_test.features)\n",
        "    y_test_pred_prob = lmod.predict_proba(X_test)[:,fav_idx]\n",
        "\n",
        "    dataset_orig_valid_pred.scores = y_valid_pred_prob.reshape(-1,1)\n",
        "    dataset_orig_test_pred.scores = y_test_pred_prob.reshape(-1,1)\n",
        "\n",
        "    y_valid_pred = np.zeros_like(dataset_orig_valid_pred.labels)\n",
        "    y_valid_pred[y_valid_pred_prob >= class_thresh] = dataset_orig_valid_pred.favorable_label\n",
        "    y_valid_pred[~(y_valid_pred_prob >= class_thresh)] = dataset_orig_valid_pred.unfavorable_label\n",
        "    dataset_orig_valid_pred.labels = y_valid_pred\n",
        "        \n",
        "    y_test_pred = np.zeros_like(dataset_orig_test_pred.labels)\n",
        "    y_test_pred[y_test_pred_prob >= class_thresh] = dataset_orig_test_pred.favorable_label\n",
        "    y_test_pred[~(y_test_pred_prob >= class_thresh)] = dataset_orig_test_pred.unfavorable_label\n",
        "    dataset_orig_test_pred.labels = y_test_pred\n",
        "\n",
        "    return (dataset_orig_valid, dataset_orig_valid_pred, dataset_orig_test, dataset_orig_test_pred)"
      ],
      "execution_count": 16,
      "outputs": []
    },
    {
      "cell_type": "markdown",
      "metadata": {
        "id": "USbzeq6zHHUe"
      },
      "source": [
        "### Function to perform cross validation calculation with given fairness function"
      ]
    },
    {
      "cell_type": "code",
      "metadata": {
        "id": "wbagW2EzG4Ym"
      },
      "source": [
        "def determine_cv_values(folds,post_processor,weight_tuple,name_tuple,pbar=None):\n",
        "    for stream in folds:\n",
        "        # Odds equalizing post-processing algorithm\n",
        "\n",
        "        m1,m2,acc = np.zeros(3),np.zeros(3),np.zeros(3)\n",
        "\n",
        "        ##########\n",
        "        dataset_orig_valid, dataset_orig_valid_pred, dataset_orig_test, dataset_orig_test_pred = stream\n",
        "\n",
        "        # Learn parameters to equalize odds and apply to create a new dataset\n",
        "   \n",
        "        if type(post_processor) == VariableCEP:\n",
        "            f1_name = 'false_negative_rate'\n",
        "            f2_name = 'false_positive_rate'\n",
        "            post_processor.set_NP(weight_tuple)\n",
        "            post_processor.fit(dataset_orig_valid, dataset_orig_valid_pred)\n",
        "        elif type(post_processor) == InquisitiveRejectOptionClassification:\n",
        "            f1_name = name_tuple[0]\n",
        "            f2_name = name_tuple[1]\n",
        "\n",
        "            post_processor.fit(dataset_orig_valid, dataset_orig_valid_pred, metric_fn = lambda metric: \n",
        "                            weight_tuple[0]*getattr(metric,f1_name)() + weight_tuple[1]*getattr(metric,f2_name)())\n",
        "\n",
        "        dataset_transf_test_pred = post_processor.predict(dataset_orig_test_pred)\n",
        "\n",
        "        \"\"\"\n",
        "        dataset_transf_valid_pred = post_processor.predict(dataset_orig_valid_pred)\n",
        "        cm_transf_valid = ClassificationMetric(dataset_orig_valid, dataset_transf_valid_pred,\n",
        "                                    unprivileged_groups=unprivileged_groups,\n",
        "                                    privileged_groups=privileged_groups)\n",
        "        \"\"\"\n",
        "        cm_transf_test = ClassificationMetric(dataset_orig_test, dataset_transf_test_pred,\n",
        "                                    unprivileged_groups=unprivileged_groups,\n",
        "                                    privileged_groups=privileged_groups)\n",
        "        #cm_transf_test.difference\n",
        "        \n",
        "        if pbar is not None:\n",
        "            pbar.update(1)\n",
        "        else:\n",
        "          #if using an optimizer\n",
        "          out = cm_transf_test.accuracy(privileged=None)\n",
        "          if diag == True:\n",
        "            print(weight_tuple, out)\n",
        "          return out\n",
        "\n",
        "        for idx,PR in enumerate(privileged_options):\n",
        "            try:\n",
        "                m1[idx] += getattr(cm_transf_test,f1_name)(privileged=PR)\n",
        "            except Exception:\n",
        "                #for if there is no difference for privileged/unpriveleged groups due to nature of the metric\n",
        "                m1[idx] = 0\n",
        "            try:\n",
        "                m2[idx] += getattr(cm_transf_test,f2_name)(privileged=PR)\n",
        "            except Exception:\n",
        "                m2[idx] = 0\n",
        "            result = cm_transf_test.accuracy(privileged=PR)\n",
        "            acc[idx] += float(result)\n",
        "        \n",
        "    return m1/len(folds),m2/len(folds),acc/len(folds)"
      ],
      "execution_count": 17,
      "outputs": []
    },
    {
      "cell_type": "code",
      "metadata": {
        "id": "XdqEALI0G72r",
        "colab": {
          "base_uri": "https://localhost:8080/"
        },
        "outputId": "b019dcca-fbcc-4ff8-c985-fb63b47a386f"
      },
      "source": [
        "#kfold = cross_val_split(n_splits=reruns)\n",
        "folds = []\n",
        "\n",
        "for count in tqdm(range(N_reps)):\n",
        "    si = [split_interv]\n",
        "    folds.append(vt_split_process(dataset_orig_vt=dataset_orig_vt,split_indexes=si,shuf=True,class_thresh=class_thresh))\n",
        "\n",
        "#valid, test = dataset_orig_vt.split(num_or_size_splits=si)"
      ],
      "execution_count": 18,
      "outputs": [
        {
          "output_type": "stream",
          "text": [
            "100%|██████████| 3/3 [00:00<00:00, 30.72it/s]\n"
          ],
          "name": "stderr"
        }
      ]
    },
    {
      "cell_type": "markdown",
      "metadata": {
        "id": "hz8gXyBrE1K8"
      },
      "source": [
        "### Use Basinhopping Optimizer to maximise accuracy"
      ]
    },
    {
      "cell_type": "code",
      "metadata": {
        "colab": {
          "base_uri": "https://localhost:8080/"
        },
        "id": "V6e-pZvkECVF",
        "outputId": "a348f7e5-8489-4f21-f46e-5f5f7c192632"
      },
      "source": [
        "#OPTIMIZE SEARCH\n",
        "diag = False\n",
        "process = lambda arr : [float(arr),1-float(arr)]\n",
        "\n",
        "b = [(0.01,0.99)]\n",
        "minimizer_kwargs = {\"bounds\":b}\n",
        "\n",
        "to_opt = lambda w : -1*determine_cv_values(folds=folds,post_processor=post_processor,weight_tuple=process(w),name_tuple=(f1_name,f2_name))\n",
        "\n",
        "res = optimize.basinhopping(func=to_opt,x0=0.5,niter=10)\n",
        "print(res)\n",
        "print(\"Optimizer success\")"
      ],
      "execution_count": 19,
      "outputs": [
        {
          "output_type": "stream",
          "text": [
            "                        fun: -0.6590909090909091\n",
            " lowest_optimization_result:       fun: -0.6590909090909091\n",
            " hess_inv: array([[1]])\n",
            "      jac: array([0.])\n",
            "  message: 'Optimization terminated successfully.'\n",
            "     nfev: 3\n",
            "      nit: 0\n",
            "     njev: 1\n",
            "   status: 0\n",
            "  success: True\n",
            "        x: array([0.21716784])\n",
            "                    message: ['requested number of basinhopping iterations completed successfully']\n",
            "      minimization_failures: 0\n",
            "                       nfev: 33\n",
            "                        nit: 10\n",
            "                       njev: 11\n",
            "                          x: array([0.21716784])\n",
            "Optimizer success\n"
          ],
          "name": "stdout"
        }
      ]
    },
    {
      "cell_type": "markdown",
      "metadata": {
        "id": "0TnpuQouHYLX"
      },
      "source": [
        "### Perform a search over all parameters"
      ]
    },
    {
      "cell_type": "code",
      "metadata": {
        "id": "Bv3GmTcLHXAH",
        "colab": {
          "base_uri": "https://localhost:8080/"
        },
        "outputId": "8c749c3f-f024-43c1-d806-326256693846"
      },
      "source": [
        "dataset_orig_valid_pred,dataset_orig_test_pred, dataset_new_valid_pred, dataset_new_test_pred = None,None,None,None\n",
        "pbar = tqdm(total=(N_reps*N_values))\n",
        "diag = False\n",
        "for neg in n_range:\n",
        "    f1_weight = neg\n",
        "\n",
        "    f2_weight = (1.0 - f1_weight)\n",
        "    f1_weight = f1_weight\n",
        "\n",
        "    f2_weight = f2_weight/(f1_weight+f2_weight)\n",
        "\n",
        "    w1_score,w2_score,accuracy = determine_cv_values(folds=folds,post_processor=post_processor,weight_tuple=(f1_weight,f2_weight),name_tuple=(f1_name,f2_name),pbar=pbar)\n",
        "\n",
        "    fns.append(w1_score)\n",
        "    fps.append(w2_score)\n",
        "    accs.append(accuracy)\n",
        "    negs.append(neg)"
      ],
      "execution_count": 20,
      "outputs": [
        {
          "output_type": "stream",
          "text": [
            " 90%|█████████ | 27/30 [00:00<00:00, 38.96it/s]"
          ],
          "name": "stderr"
        }
      ]
    },
    {
      "cell_type": "code",
      "metadata": {
        "id": "FtklGtcAJ0Jl",
        "colab": {
          "base_uri": "https://localhost:8080/"
        },
        "outputId": "adbc2c10-d1a2-424c-d67e-e22e8fadfa07"
      },
      "source": [
        "fns, fps, accs = np.array(fns)*N_reps,np.array(fps)*N_reps,np.array(accs)*N_reps\n",
        "\n",
        "cpp_100 = (fns,fps,accs)\n",
        "%store cpp_100"
      ],
      "execution_count": 21,
      "outputs": [
        {
          "output_type": "stream",
          "text": [
            "Stored 'cpp_100' (tuple)\n"
          ],
          "name": "stdout"
        }
      ]
    },
    {
      "cell_type": "code",
      "metadata": {
        "id": "lOGHGopeKkXm"
      },
      "source": [
        "%store -r cpp_100\n",
        "#cpp_100"
      ],
      "execution_count": 22,
      "outputs": []
    },
    {
      "cell_type": "markdown",
      "metadata": {
        "id": "ROGsxek0K11M"
      },
      "source": [
        "### Display Results"
      ]
    },
    {
      "cell_type": "code",
      "metadata": {
        "id": "_8fgV98aK3yH"
      },
      "source": [
        "# plot results from fns, fps, accs, negs for different groups\n",
        "collapse = lambda param, idx : [v[idx] for v in param]\n",
        "\n",
        "getnames = {None:\"full data\", True:\"privileged\", False:\"unprivileged\"}\n",
        "\n",
        "percentchange = lambda result: [100*((i-result[0])/result[0]) for i in result]\n",
        "\n",
        "idx,PR = 2,None\n",
        "maximised_accuracy = max(collapse(accs,idx))\n",
        "maximised_idx = collapse(accs,idx).index(maximised_accuracy)\n",
        "percentmax = lambda result: [100*((i-result[maximised_idx])/result[maximised_idx]) for i in result]"
      ],
      "execution_count": 23,
      "outputs": []
    },
    {
      "cell_type": "markdown",
      "metadata": {
        "id": "KCerb9QkGv2u"
      },
      "source": [
        "#### Print max and min values from search and optimizer"
      ]
    },
    {
      "cell_type": "code",
      "metadata": {
        "colab": {
          "base_uri": "https://localhost:8080/"
        },
        "id": "oKDB4UAJEMvn",
        "outputId": "9be9c9e1-22da-4ce9-aa11-9b1ef4b5e441"
      },
      "source": [
        "res_string = \"results measured on {}-fold shuffled cross validation on random\\n{} of dataset. Postprocessor trained on {} of dataset\".format(N_reps, round((1-split_interv)*(1-train_split),3),round(split_interv*(1-train_split),3))\n",
        "\n",
        "maximised_value_idx = lambda prop, idx : collapse(prop,idx).index(max(collapse(prop,idx)))\n",
        "idx = 2\n",
        "values = ['min {}'.format(f1_name),'min {}'.format(f2_name), 'max accuracy']\n",
        "for idv,prop in enumerate([-1*np.array(fps),-1*np.array(fns),accs]):\n",
        "    print(\"\\n\"+values[idv])\n",
        "    maxi = maximised_value_idx(prop,idx)\n",
        "\n",
        "\n",
        "    print(\"{}: {}\".format(f1_name, round(collapse(fps,idx)[maxi],5)))\n",
        "    print(\"{}: {}\".format(f2_name, round(collapse(fns,idx)[maxi],5)))\n",
        "    print(\"accs: {}\".format(round(collapse(accs,idx)[maxi],5)))\n",
        "  \n",
        "print(res_string)\n",
        "\n",
        "print(\"\\nFound by optimizer, max accuracy at\")\n",
        "lor = float(res.lowest_optimization_result.x)\n",
        "print(\"{} = {}, {} = {}\".format(f1_name,round(lor,5),f2_name,round(1-lor,5)))\n",
        "print(\"Accuracy = {}\".format(round(-1*res.lowest_optimization_result.fun,5)))"
      ],
      "execution_count": 40,
      "outputs": [
        {
          "output_type": "stream",
          "text": [
            "\n",
            "min false_negative_rate\n",
            "false_negative_rate: 0.44503\n",
            "false_positive_rate: 0.24634\n",
            "accs: 0.65783\n",
            "\n",
            "min false_positive_rate\n",
            "false_negative_rate: 0.54712\n",
            "false_positive_rate: 0.2122\n",
            "accs: 0.62626\n",
            "\n",
            "max accuracy\n",
            "false_negative_rate: 0.44764\n",
            "false_positive_rate: 0.24146\n",
            "accs: 0.65909\n",
            "results measured on 3-fold shuffled cross validation on random\n",
            "0.15 of dataset. Postprocessor trained on 0.15 of dataset\n",
            "\n",
            "Found by optimizer, max accuracy at\n",
            "false_negative_rate = 0.21717, false_positive_rate = 0.78283\n",
            "Accuracy = 0.65909\n"
          ],
          "name": "stdout"
        }
      ]
    },
    {
      "cell_type": "markdown",
      "metadata": {
        "id": "fxS6_UtQK-RH"
      },
      "source": [
        "#### Plot the change from value at max accuracy of metrics, accuracy in search"
      ]
    },
    {
      "cell_type": "code",
      "metadata": {
        "id": "2HyVOv5VK7O5",
        "colab": {
          "base_uri": "https://localhost:8080/",
          "height": 488
        },
        "outputId": "78af24c7-3054-461d-f39f-a72b415c2150"
      },
      "source": [
        "plt.figure(figsize=(8,6))\n",
        "negs = np.array(negs)\n",
        "plt.plot(negs*100,percentmax(collapse(accs,idx)),label='accuracy')\n",
        "plt.plot(negs*100,percentmax(collapse(fns,idx)),label='{}'.format(f1_name))\n",
        "plt.plot(negs*100,percentmax(collapse(fps,idx)),label='{}'.format(f2_name))\n",
        "\n",
        "xlab = '{} % weight in cost vs {}'.format(f1_name,f2_name)\n",
        "\n",
        "plt.xlabel(xlab)\n",
        "plt.ylabel(\"% change from value at maximum accuracy\")\n",
        "\n",
        "plt.legend()\n",
        "\n",
        "\n",
        "titl = ' {}\\nmax_acc={}, fn_cost={}\\n'.format(getnames[PR],round(maximised_accuracy,4),round(negs[maximised_idx],4))\n",
        "\n",
        "plt.title(dataset_used+titl+res_string)\n"
      ],
      "execution_count": 54,
      "outputs": [
        {
          "output_type": "execute_result",
          "data": {
            "text/plain": [
              "Text(0.5, 1.0, 'compas full data\\nmax_acc=0.6591, fn_cost=0.1189\\nresults measured on 3-fold shuffled cross validation on random\\n0.15 of dataset. Postprocessor trained on 0.15 of dataset')"
            ]
          },
          "metadata": {
            "tags": []
          },
          "execution_count": 54
        },
        {
          "output_type": "display_data",
          "data": {
            "image/png": "[encoded data removed]",
            "text/plain": [
              "<Figure size 576x432 with 1 Axes>"
            ]
          },
          "metadata": {
            "tags": [],
            "needs_background": "light"
          }
        }
      ]
    },
    {
      "cell_type": "markdown",
      "metadata": {
        "id": "p62Rsn6LNvPo"
      },
      "source": [
        "#### Plot the metric values and accuracy"
      ]
    },
    {
      "cell_type": "code",
      "metadata": {
        "colab": {
          "base_uri": "https://localhost:8080/",
          "height": 450
        },
        "id": "R_wRphUENurT",
        "outputId": "f3025237-a54f-4d92-b1df-39bc0d8cd703"
      },
      "source": [
        "  PR = None\n",
        "  fig, (ax1,ax2,ax3) = plt.subplots(1, 3,sharex=True,figsize=(16,6))\n",
        "  fig.suptitle(dataset_used+\"\\n\"+res_string)\n",
        "\n",
        "  ax1.plot(negs*100,collapse(accs,idx))\n",
        "  ax1.set_ylabel(\"accuracy\")\n",
        "  ax1.set_xlabel(xlab)\n",
        "  ax2.set_ylabel('{}'.format(f1_name))\n",
        "  ax2.plot(negs*100,collapse(fns,idx))\n",
        "  ax2.set_xlabel(xlab)\n",
        "  ax3.set_ylabel('{}'.format(f2_name))\n",
        "  ax3.plot(negs*100,collapse(fps,idx))\n",
        "  ax3.set_xlabel(xlab)"
      ],
      "execution_count": 55,
      "outputs": [
        {
          "output_type": "execute_result",
          "data": {
            "text/plain": [
              "Text(0.5, 0, 'false_negative_rate % weight in cost vs false_positive_rate')"
            ]
          },
          "metadata": {
            "tags": []
          },
          "execution_count": 55
        },
        {
          "output_type": "display_data",
          "data": {
            "image/png": "[encoded data removed]",
            "text/plain": [
              "<Figure size 1152x432 with 3 Axes>"
            ]
          },
          "metadata": {
            "tags": [],
            "needs_background": "light"
          }
        }
      ]
    },
    {
      "cell_type": "markdown",
      "metadata": {
        "id": "s73Wdsa8Sgxn"
      },
      "source": [
        "#### Show how optimized models compare to original\n",
        "\n",
        "####TODO"
      ]
    }
  ]
}